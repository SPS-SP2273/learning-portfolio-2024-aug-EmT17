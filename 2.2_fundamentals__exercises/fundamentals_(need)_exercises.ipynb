{
 "cells": [
  {
   "attachments": {},
   "cell_type": "markdown",
   "id": "123456",
   "metadata": {},
   "source": [
    "<div style=\"text-align:left;font-size:2em\"><span style=\"font-weight:bolder;font-size:1.25em\">SP2273 | Learning Portfolio</span><br><br><span style=\"font-weight:bold;color:darkred\">Fundamentals (Need) Exercises</span></div>"
   ]
  },
  {
   "cell_type": "markdown",
   "id": "6f62e7a9-f394-4fa6-8047-bfc1bd3133cc",
   "metadata": {},
   "source": [
    "# **Exercise 1**"
   ]
  },
  {
   "cell_type": "markdown",
   "id": "5d27d6c7-1633-4906-8a78-4e14dfc394c5",
   "metadata": {},
   "source": [
    "1. Markdown cell accepts texts\n",
    "2. code cell accepts python codes\n",
    "3. rendering the cells\n",
    "4. syntax in markdown\n",
    "5. kernel\n",
    "6. _shell magic_\n",
    "7. _listing_\n",
    "8. _producing math equations_\n"
   ]
  },
  {
   "cell_type": "markdown",
   "id": "769fd339-4418-4a62-804b-73f4847de830",
   "metadata": {},
   "source": [
    "# **Exercise 2**"
   ]
  },
  {
   "cell_type": "code",
   "execution_count": 42,
   "id": "eabeb702-2b8f-4a5b-9bc5-e686e4a62db7",
   "metadata": {},
   "outputs": [
    {
     "name": "stdout",
     "output_type": "stream",
     "text": [
      "3 4 5.0\n"
     ]
    }
   ],
   "source": [
    "import math\n",
    "\n",
    "x, y = 3, 4\n",
    "z = math.sqrt(x**2 + y**2)\n",
    "print(x, y, z)"
   ]
  },
  {
   "cell_type": "markdown",
   "id": "ae4794e3-02d2-4952-9f27-85036a51e066",
   "metadata": {},
   "source": [
    "# **Exercise 3**"
   ]
  },
  {
   "cell_type": "markdown",
   "id": "1301f3f5-d631-4a67-ab69-e6e02523dc65",
   "metadata": {},
   "source": [
    "| #    |  **Terms**  |   **Description** |\n",
    "| :--- | :--: | ---: |\n",
    "| 1    |  Function  | It is a set of instructions that will carry out a  task |\n",
    "| 2    |  Arguments  | They are the variables/values inside the function |\n",
    "| 3    |  Comments  | Short inputs to explain the purpose of the code |\n",
    "| 4    |  Indentations  | Spaces that indicate the block of a code |\n",
    "| 5    |  Packages  | It contains modules that perform specific tasks |\n",
    "| 6    |  .  | It allows you to accesss attributes and methods|\n",
    "| 7    |  :  | Allows you to pick a section (from here to there) |\n",
    "| 8    |  []  | Is used to list data |\n",
    "| 9    |  [[],[]]  | A list that contains two other lists |\n",
    "| 10   |  {}  | Stores data that helps you organise and retrieve info |"
   ]
  },
  {
   "cell_type": "code",
   "execution_count": null,
   "id": "d6630b44-672b-4500-9837-a7a74ece3801",
   "metadata": {},
   "outputs": [],
   "source": []
  }
 ],
 "metadata": {
  "kernelspec": {
   "display_name": "Python 3 (ipykernel)",
   "language": "python",
   "name": "python3"
  },
  "language_info": {
   "codemirror_mode": {
    "name": "ipython",
    "version": 3
   },
   "file_extension": ".py",
   "mimetype": "text/x-python",
   "name": "python",
   "nbconvert_exporter": "python",
   "pygments_lexer": "ipython3",
   "version": "3.12.2"
  },
  "toc": {
   "base_numbering": 1,
   "nav_menu": {},
   "number_sections": true,
   "sideBar": true,
   "skip_h1_title": false,
   "title_cell": "Table of Contents",
   "title_sidebar": "Contents",
   "toc_cell": false,
   "toc_position": {},
   "toc_section_display": true,
   "toc_window_display": false
  },
  "vscode": {
   "interpreter": {
    "hash": "31f2aee4e71d21fbe5cf8b01ff0e069b9275f58929596ceb00d14d90e3e16cd6"
   }
  }
 },
 "nbformat": 4,
 "nbformat_minor": 5
}
