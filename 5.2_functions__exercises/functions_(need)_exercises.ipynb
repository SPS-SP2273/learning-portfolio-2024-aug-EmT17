{
 "cells": [
  {
   "attachments": {},
   "cell_type": "markdown",
   "id": "123456",
   "metadata": {},
   "source": [
    "<div style=\"text-align:left;font-size:2em\"><span style=\"font-weight:bolder;font-size:1.25em\">SP2273 | Learning Portfolio</span><br><br><span style=\"font-weight:bold;color:darkred\">Functions (Need) Exercises</span></div>"
   ]
  },
  {
   "cell_type": "markdown",
   "id": "1fefb0dd-6ef3-4d18-9ed7-72fb716813d6",
   "metadata": {},
   "source": [
    "**Exercise 1**"
   ]
  },
  {
   "cell_type": "markdown",
   "id": "27717d74-24f9-4933-ab43-a15ea4315511",
   "metadata": {},
   "source": [
    "The function checks if the condition is met (name is 'Batman'). In the event that this condition is met, it will return the greeting 'Hello Batman! So, nice to meet you!'. \n",
    "\n",
    "In the event the condition is not met (name is anything else BUT 'Batman') it will return with another greeting: 'Hello {name}'.\n",
    "\n",
    "This works without the **else** statment since in the case where the if condition is not met, it will automatically skip to the next block and execute the general greeting, working like the **else** function."
   ]
  },
  {
   "cell_type": "markdown",
   "id": "12f1715b-616c-4207-8ebb-aa257bffc5f4",
   "metadata": {},
   "source": [
    "**Exercise 2**"
   ]
  },
  {
   "cell_type": "code",
   "execution_count": 13,
   "id": "1912e1cf-b0e0-4186-a688-9d125affcc18",
   "metadata": {},
   "outputs": [
    {
     "name": "stdout",
     "output_type": "stream",
     "text": [
      "16.3265306122449\n",
      "Underweight\n",
      "19.531249999999996\n",
      "Normal weight\n",
      "27.755102040816325\n",
      "Overweight\n",
      "34.602076124567475\n",
      "Obese\n"
     ]
    }
   ],
   "source": [
    "def calculate_bmi(weight, height): #define the bmi  \n",
    "    bmi = weight / (height**2) # eq \n",
    "    print (bmi)\n",
    "    if bmi <18.5: #the conditions of the various BMI\n",
    "        return 'Underweight'\n",
    "    elif 18.5 <= bmi <= 24.9:\n",
    "        return 'Normal weight'\n",
    "    elif 25 <= bmi <= 29.9:\n",
    "        return 'Overweight'\n",
    "    else:\n",
    "        return 'Obese' #in the event all the conditions are not met\n",
    "\n",
    "print(calculate_bmi(50, 1.75))  \n",
    "print(calculate_bmi(50, 1.60))  \n",
    "print(calculate_bmi(85, 1.75))  \n",
    "print(calculate_bmi(100, 1.70))"
   ]
  },
  {
   "cell_type": "markdown",
   "id": "3431ebe5-9203-4dc5-8ba7-206a2bad6cd8",
   "metadata": {},
   "source": [
    "**Exercise 3**"
   ]
  },
  {
   "cell_type": "code",
   "execution_count": 25,
   "id": "7387b345-8613-4f18-a0e7-b0d82e4e3766",
   "metadata": {},
   "outputs": [
    {
     "name": "stdout",
     "output_type": "stream",
     "text": [
      "24\n",
      "1\n",
      "Factorial is not defined for negative numbers\n"
     ]
    }
   ],
   "source": [
    "def calculate_factorial(n): #define the factorial\n",
    "    if n < 0: #in the event there is a negative value\n",
    "        return \"Factorial is not defined for negative numbers\"\n",
    "    elif n == 0: #if have zero\n",
    "        return 1\n",
    "        \n",
    "    else: #positive no.\n",
    "        factorial =1\n",
    "        for i in range (1, n+1):\n",
    "            factorial *= i\n",
    "        return factorial \n",
    "\n",
    "print(calculate_factorial(4))\n",
    "print(calculate_factorial(0))\n",
    "print(calculate_factorial(-2))\n",
    "        "
   ]
  },
  {
   "cell_type": "code",
   "execution_count": null,
   "id": "94b64f68-e803-4162-bf03-6cb0225bb405",
   "metadata": {},
   "outputs": [],
   "source": []
  }
 ],
 "metadata": {
  "kernelspec": {
   "display_name": "Python 3 (ipykernel)",
   "language": "python",
   "name": "python3"
  },
  "language_info": {
   "codemirror_mode": {
    "name": "ipython",
    "version": 3
   },
   "file_extension": ".py",
   "mimetype": "text/x-python",
   "name": "python",
   "nbconvert_exporter": "python",
   "pygments_lexer": "ipython3",
   "version": "3.12.2"
  },
  "toc": {
   "base_numbering": 1,
   "nav_menu": {},
   "number_sections": true,
   "sideBar": true,
   "skip_h1_title": false,
   "title_cell": "Table of Contents",
   "title_sidebar": "Contents",
   "toc_cell": false,
   "toc_position": {},
   "toc_section_display": true,
   "toc_window_display": false
  },
  "vscode": {
   "interpreter": {
    "hash": "31f2aee4e71d21fbe5cf8b01ff0e069b9275f58929596ceb00d14d90e3e16cd6"
   }
  }
 },
 "nbformat": 4,
 "nbformat_minor": 5
}
