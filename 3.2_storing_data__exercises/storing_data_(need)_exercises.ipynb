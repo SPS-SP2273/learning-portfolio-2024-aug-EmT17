{
 "cells": [
  {
   "attachments": {},
   "cell_type": "markdown",
   "id": "123456",
   "metadata": {},
   "source": [
    "<div style=\"text-align:left;font-size:2em\"><span style=\"font-weight:bolder;font-size:1.25em\">SP2273 | Learning Portfolio</span><br><br><span style=\"font-weight:bold;color:darkred\">Storing Data (Need) Exercises</span></div>"
   ]
  },
  {
   "cell_type": "code",
   "execution_count": 5,
   "id": "315ee60c-1883-409a-8d5a-34b4b49721de",
   "metadata": {},
   "outputs": [],
   "source": [
    "import numpy as np"
   ]
  },
  {
   "cell_type": "markdown",
   "id": "caf45198-5954-4636-a34f-738e7331c9ae",
   "metadata": {},
   "source": [
    " **Exercise 1**"
   ]
  },
  {
   "cell_type": "markdown",
   "id": "29412f91-4e02-43af-b7a8-141add9a8f50",
   "metadata": {},
   "source": [
    "1. Similarities: store items in specific order, chhange items after they are created. _Data in lists and arrays must be accessed using a zero-based index_.\n",
    "2. Difference: you can put different types of items in a list, all items in an arry need to be the same type. _Lists can change in size during runtime, arrays can't_.\n",
    "3. Dictionary: stores data in a key-value pair. "
   ]
  },
  {
   "cell_type": "markdown",
   "id": "5600d194-d52b-4e92-b644-37bfe913408f",
   "metadata": {},
   "source": [
    "**Exercise 2**"
   ]
  },
  {
   "cell_type": "code",
   "execution_count": 2,
   "id": "39f0106b-6424-4175-8099-66c10efc6723",
   "metadata": {},
   "outputs": [
    {
     "name": "stdout",
     "output_type": "stream",
     "text": [
      "a1\n",
      "c3\n",
      "e5\n",
      "g7\n",
      "i9\n"
     ]
    }
   ],
   "source": [
    "py_list = [\"a1\", \"b2\", \"c3\", \"d4\", \"e5\", \"f6\", \"g7\", \"h8\", \"i9\", \"j10\"]\n",
    "print(py_list[0])                    # Prints 'a1'\n",
    "print(py_list[2])                    # Prints 'c3'\n",
    "print(py_list[4])                     # Prints 'e5'\n",
    "print(py_list[6])                     # Prints 'g7'\n",
    "print(py_list[8])   # Prints 'i9'"
   ]
  },
  {
   "cell_type": "markdown",
   "id": "3b4b8cb1-c1c7-4309-beef-bca1173e3f8c",
   "metadata": {},
   "source": [
    "**Exercise 3**"
   ]
  },
  {
   "cell_type": "code",
   "execution_count": 4,
   "id": "9273172a-4517-426d-9b2d-3f75817b0379",
   "metadata": {},
   "outputs": [
    {
     "name": "stdout",
     "output_type": "stream",
     "text": [
      "Boron\n",
      "Boron\n"
     ]
    }
   ],
   "source": [
    "elements = ['Hydrogen',\n",
    "            'Helium', 'Lithium',\n",
    "            'Beryllium', 'Boron', 'Carbon',\n",
    "            'Nitrogen', 'Oxygen',\n",
    "            'Fluorine',\n",
    "            'Neon']\n",
    "print(elements[4])\n",
    "print(elements[-6])"
   ]
  },
  {
   "cell_type": "markdown",
   "id": "1f63fc60-96b9-4c3f-87b2-69e64e7d74dc",
   "metadata": {},
   "source": [
    "**Exercise 4**"
   ]
  },
  {
   "cell_type": "code",
   "execution_count": 11,
   "id": "a7c24207-07b9-42d5-9952-3594550cda1b",
   "metadata": {},
   "outputs": [
    {
     "name": "stdout",
     "output_type": "stream",
     "text": [
      "number of 1's:  9\n"
     ]
    }
   ],
   "source": [
    "numbers=[45, 60, 1, 30, 96, 1, 96, 57, 16, 1,\n",
    "        99, 62, 86, 43, 42, 60, 59, 1, 1, 35,\n",
    "        83, 47, 34, 28, 68, 23, 22, 92, 1, 79,\n",
    "        1, 29, 94, 72, 46, 47, 1, 74, 32, 20,\n",
    "        8, 37, 35, 1, 89, 29, 86, 19, 43, 61]  \n",
    "\n",
    "np_numbers=np.array(numbers) #change into numpy array \n",
    "count_1=sum(np_numbers==1) #saving all the numbers =1 in count_1\n",
    "print(\"number of 1's: \",count_1)"
   ]
  },
  {
   "cell_type": "code",
   "execution_count": 16,
   "id": "a755c78d-9c49-4aca-af7e-0ed028a5bb42",
   "metadata": {},
   "outputs": [],
   "source": [
    "x_1 = [1, 4, 9, 16, 25, 36, 49, 64, 81, 100]\n",
    "x_2 = [1, 8, 27, 64, 125, 216, 343, 512, 729, 1000]\n",
    "\n",
    "np_x_1=np.array(x_1)\n",
    "np_x_2=np.array(x_2)\n"
   ]
  },
  {
   "cell_type": "code",
   "execution_count": 20,
   "id": "a1d9c096-f61c-4cfe-b923-ba862f3457b8",
   "metadata": {},
   "outputs": [
    {
     "name": "stdout",
     "output_type": "stream",
     "text": [
      "Mean of x_1:  38.5\n",
      "Mean of x_2:  302.5\n"
     ]
    }
   ],
   "source": [
    "x_1_mean=np.mean(np_x_1)\n",
    "x_2_mean=np.mean(np_x_2)\n",
    "\n",
    "print(\"Mean of x_1: \",x_1_mean)\n",
    "print(\"Mean of x_2: \",x_2_mean)"
   ]
  },
  {
   "cell_type": "code",
   "execution_count": 21,
   "id": "d5ea01ad-3b0e-4df8-807c-9ad6499d91f9",
   "metadata": {},
   "outputs": [
    {
     "name": "stdout",
     "output_type": "stream",
     "text": [
      "Standard Deviation of x_1:  32.41990129534635\n",
      "Standard Deviation of x_2:  326.0893282522444\n"
     ]
    }
   ],
   "source": [
    "x_1_std=np.std(np_x_1)\n",
    "x_2_std=np.std(np_x_2)\n",
    "\n",
    "print(\"Standard Deviation of x_1: \",x_1_std)\n",
    "print(\"Standard Deviation of x_2: \",x_2_std)"
   ]
  },
  {
   "cell_type": "code",
   "execution_count": 19,
   "id": "d580abad-b727-4841-9586-eb285c3fe535",
   "metadata": {},
   "outputs": [
    {
     "name": "stdout",
     "output_type": "stream",
     "text": [
      "Pearson Correlation coefficient(using np.sum & np.sqrt) 0.9871796626270702\n",
      "Pearson Correlation coefficient(using np.corroef) [[1.         0.98717966]\n",
      " [0.98717966 1.        ]]\n"
     ]
    }
   ],
   "source": [
    "covariance = np.sum((np_x_1 - x_1_mean) * (np_x_2 - x_2_mean)) / len(np_x_1)\n",
    "\n",
    "correlation_coefficient = covariance / (x_1_std * x_2_std)\n",
    "\n",
    "correlation_coefficient2 = np.corrcoef(np_x_1,np_x_2)\n",
    "\n",
    "print(\"Pearson Correlation coefficient(using np.sum & np.sqrt)\",correlation_coefficient)\n",
    "print(\"Pearson Correlation coefficient(using np.corroef)\",correlation_coefficient2)"
   ]
  },
  {
   "cell_type": "code",
   "execution_count": null,
   "id": "22da7f11-bbcf-409a-af01-b7b230b02204",
   "metadata": {},
   "outputs": [],
   "source": []
  }
 ],
 "metadata": {
  "kernelspec": {
   "display_name": "Python 3 (ipykernel)",
   "language": "python",
   "name": "python3"
  },
  "language_info": {
   "codemirror_mode": {
    "name": "ipython",
    "version": 3
   },
   "file_extension": ".py",
   "mimetype": "text/x-python",
   "name": "python",
   "nbconvert_exporter": "python",
   "pygments_lexer": "ipython3",
   "version": "3.12.2"
  },
  "toc": {
   "base_numbering": 1,
   "nav_menu": {},
   "number_sections": true,
   "sideBar": true,
   "skip_h1_title": false,
   "title_cell": "Table of Contents",
   "title_sidebar": "Contents",
   "toc_cell": false,
   "toc_position": {},
   "toc_section_display": true,
   "toc_window_display": false
  },
  "vscode": {
   "interpreter": {
    "hash": "31f2aee4e71d21fbe5cf8b01ff0e069b9275f58929596ceb00d14d90e3e16cd6"
   }
  }
 },
 "nbformat": 4,
 "nbformat_minor": 5
}
