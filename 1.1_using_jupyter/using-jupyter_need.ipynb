{
 "cells": [
  {
   "cell_type": "code",
   "execution_count": 5,
   "id": "18fd96e2-ac5a-4147-8585-14b429fbf6a6",
   "metadata": {},
   "outputs": [
    {
     "name": "stdout",
     "output_type": "stream",
     "text": [
      "Hello World!\n"
     ]
    }
   ],
   "source": [
    "print('Hello World!')"
   ]
  },
  {
   "cell_type": "code",
   "execution_count": 5,
   "id": "6677351d-163d-4d88-bf3a-d891b25874c3",
   "metadata": {},
   "outputs": [
    {
     "name": "stdout",
     "output_type": "stream",
     "text": [
      "Hello World!\n"
     ]
    }
   ],
   "source": [
    "print('Hello World!')"
   ]
  },
  {
   "cell_type": "markdown",
   "id": "311caae1-c6f1-4aaa-80c7-f2c0c79b47cb",
   "metadata": {},
   "source": [
    "# This is a Start \n",
    "\n",
    "## Subsection 1\n",
    "\n",
    "### Hahhah 1 \n",
    "\n",
    "### Muahahaha 2 \n",
    "The **ships** hung in *the sky* in much the same way that bricks don’t.\n",
    "\n",
    "# Displaying Code\n",
    "\n",
    "```python\n",
    "print('Hello World!')\n",
    "```\n",
    "\n",
    "[SP2273 Website](https://sps.nus.edu.sg/sp2273)\n",
    "\n",
    "![](https://nus.edu.sg/images/default-source/base/logo.png)\n",
    "\n",
    "| A    |  B   |    C |\n",
    "| :--- | :--: | ---: |\n",
    "| a1   |  b1  |   c1 |\n",
    "| a2   |  b2  |   c2 |\n",
    "| a3   |  b3  |   c3 |\n",
    "\n",
    "# Lists \n",
    "\n",
    "1. Master Yoda\n",
    "   1. Was a Jedi\n",
    "   1. Was a bit green\n",
    "1. Luke Skywalker\n",
    "   1. Was a Jedi\n",
    "   1. Is Anakin's son.\n",
    "1. Anakin Skywalker\n",
    "   - Was a Jedi then became a baddie\n",
    "   - Is famous for saying 'Luke, I am your father'\n",
    "\n",
    "# Equations\n",
    "\n",
    "$ this is a equation \\sqrt{b^2-4ac}$\n",
    "\n",
    "$$\n",
    "x = \\dfrac{-b \\pm \\sqrt{b^2-4ac}}{2a}\n",
    "$$\n",
    "\n",
    "$\\alpha, \\beta, \\gamma, \\pi, \\lambda$"
   ]
  },
  {
   "cell_type": "code",
   "execution_count": null,
   "id": "e3b79f97-53f0-4d59-8252-d38e5648295d",
   "metadata": {},
   "outputs": [],
   "source": []
  }
 ],
 "metadata": {
  "kernelspec": {
   "display_name": "Python 3 (ipykernel)",
   "language": "python",
   "name": "python3"
  },
  "language_info": {
   "codemirror_mode": {
    "name": "ipython",
    "version": 3
   },
   "file_extension": ".py",
   "mimetype": "text/x-python",
   "name": "python",
   "nbconvert_exporter": "python",
   "pygments_lexer": "ipython3",
   "version": "3.12.2"
  }
 },
 "nbformat": 4,
 "nbformat_minor": 5
}
