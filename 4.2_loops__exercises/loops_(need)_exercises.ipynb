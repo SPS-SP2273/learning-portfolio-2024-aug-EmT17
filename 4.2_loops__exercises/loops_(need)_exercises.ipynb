{
 "cells": [
  {
   "attachments": {},
   "cell_type": "markdown",
   "id": "123456",
   "metadata": {},
   "source": [
    "<div style=\"text-align:left;font-size:2em\"><span style=\"font-weight:bolder;font-size:1.25em\">SP2273 | Learning Portfolio</span><br><br><span style=\"font-weight:bold;color:darkred\">Loops (Need) Exercises</span></div>"
   ]
  },
  {
   "cell_type": "code",
   "execution_count": 1,
   "id": "e780f182-ceec-4ef1-86c5-b105e36812c9",
   "metadata": {},
   "outputs": [],
   "source": [
    "import numpy as np"
   ]
  },
  {
   "cell_type": "markdown",
   "id": "dd2c66e9-39d2-45e4-b04b-6e951088ced8",
   "metadata": {},
   "source": [
    "**Exercise 1**"
   ]
  },
  {
   "cell_type": "code",
   "execution_count": 1,
   "id": "898db124-a918-46f2-a136-db9e81ce766e",
   "metadata": {},
   "outputs": [
    {
     "name": "stdout",
     "output_type": "stream",
     "text": [
      "0: 0°C -> 32.0°F\n",
      "1: 5°C -> 41.0°F\n",
      "2: 10°C -> 50.0°F\n",
      "3: 15°C -> 59.0°F\n",
      "4: 20°C -> 68.0°F\n",
      "5: 25°C -> 77.0°F\n",
      "6: 30°C -> 86.0°F\n",
      "7: 35°C -> 95.0°F\n",
      "8: 40°C -> 104.0°F\n",
      "9: 45°C -> 113.0°F\n",
      "10: 50°C -> 122.0°F\n"
     ]
    }
   ],
   "source": [
    "temperatures_celsius = [\n",
    "    0, 5, 10, 15, 20, 25,\n",
    "    30, 35, 40, 45, 50\n",
    "]\n",
    "\n",
    "for index, celsius in enumerate(temperatures_celsius):\n",
    "    farenheight = celsius * 9/5 +32\n",
    "    print(f'{index}: {celsius}°C -> {farenheight}°F')\n"
   ]
  },
  {
   "cell_type": "markdown",
   "id": "467a1a34-5c27-481e-817d-14c38cf60fa4",
   "metadata": {},
   "source": [
    "**Exercise 2**"
   ]
  },
  {
   "cell_type": "code",
   "execution_count": 2,
   "id": "3502fc10-0368-4794-82e7-140242fff2bf",
   "metadata": {},
   "outputs": [
    {
     "name": "stdout",
     "output_type": "stream",
     "text": [
      "A1\tA2\tA3\t\n",
      "\n",
      "B1\tB2\tB3\t\n",
      "\n",
      "C1\tC2\tC3\t\n",
      "\n"
     ]
    }
   ],
   "source": [
    "for letter in ['A', 'B', 'C']: #row\n",
    "    for number in [1, 2, 3]:\n",
    "        print(f'{letter}{number}', end='\\t')\n",
    "    print('\\n')"
   ]
  },
  {
   "cell_type": "code",
   "execution_count": 34,
   "id": "596f23ea-c8c5-424c-becd-28535ec57b29",
   "metadata": {},
   "outputs": [
    {
     "name": "stdout",
     "output_type": "stream",
     "text": [
      "1 : 1    2    3    4    5    \n",
      "2 : 2    4    6    8    10   \n",
      "3 : 3    6    9    12   15   \n",
      "4 : 4    8    12   16   20   \n",
      "5 : 5    10   15   20   25   \n"
     ]
    }
   ],
   "source": [
    "for i in range(1, 6):\n",
    "    \n",
    "    print(f\"{i} :\", end=\" \")\n",
    "   \n",
    "    for j in range(1, 6):\n",
    "        \n",
    "        print(f\"{i * j:<4}\", end=\" \")\n",
    "   \n",
    "    print()"
   ]
  },
  {
   "cell_type": "markdown",
   "id": "52eaa89c-6650-4bd7-885b-969b04f28d54",
   "metadata": {},
   "source": [
    "**Exercise 3**"
   ]
  },
  {
   "cell_type": "code",
   "execution_count": 23,
   "id": "449bbdbf-727c-41b8-a1b1-56250ef6a246",
   "metadata": {},
   "outputs": [
    {
     "data": {
      "text/plain": [
       "array([0.4034341 , 0.53224949, 0.31670598, 0.90884695, 0.24381981,\n",
       "       0.08741115, 0.13061122, 0.38061293, 0.60278508, 0.54368154])"
      ]
     },
     "execution_count": 23,
     "metadata": {},
     "output_type": "execute_result"
    }
   ],
   "source": [
    "np.random.rand(10)"
   ]
  },
  {
   "cell_type": "code",
   "execution_count": 6,
   "id": "97e219ca-6689-4ec0-bfc8-517616e74f48",
   "metadata": {},
   "outputs": [
    {
     "name": "stdout",
     "output_type": "stream",
     "text": [
      "Experiment1: No. of Heads = 8\n",
      "Experiment2: No. of Heads = 5\n",
      "Experiment3: No. of Heads = 6\n",
      "Experiment4: No. of Heads = 2\n",
      "Experiment5: No. of Heads = 7\n",
      "Experiment6: No. of Heads = 4\n",
      "Experiment7: No. of Heads = 3\n",
      "Experiment8: No. of Heads = 3\n",
      "Experiment9: No. of Heads = 4\n",
      "Experiment10: No. of Heads = 2\n"
     ]
    }
   ],
   "source": [
    "for experiment in range(1,11):\n",
    "    random_numbers=np.random.rand(10)\n",
    "    head_count=np.sum(random_numbers > 0.5)\n",
    "    print(f'Experiment{experiment}: No. of Heads = {head_count}')"
   ]
  },
  {
   "cell_type": "code",
   "execution_count": null,
   "id": "6dc9196f-8cb4-406a-9efa-cfb320fa3aae",
   "metadata": {},
   "outputs": [],
   "source": []
  }
 ],
 "metadata": {
  "kernelspec": {
   "display_name": "Python 3 (ipykernel)",
   "language": "python",
   "name": "python3"
  },
  "language_info": {
   "codemirror_mode": {
    "name": "ipython",
    "version": 3
   },
   "file_extension": ".py",
   "mimetype": "text/x-python",
   "name": "python",
   "nbconvert_exporter": "python",
   "pygments_lexer": "ipython3",
   "version": "3.12.2"
  },
  "toc": {
   "base_numbering": 1,
   "nav_menu": {},
   "number_sections": true,
   "sideBar": true,
   "skip_h1_title": false,
   "title_cell": "Table of Contents",
   "title_sidebar": "Contents",
   "toc_cell": false,
   "toc_position": {},
   "toc_section_display": true,
   "toc_window_display": false
  },
  "vscode": {
   "interpreter": {
    "hash": "31f2aee4e71d21fbe5cf8b01ff0e069b9275f58929596ceb00d14d90e3e16cd6"
   }
  }
 },
 "nbformat": 4,
 "nbformat_minor": 5
}
