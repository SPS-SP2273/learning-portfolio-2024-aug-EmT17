{
 "cells": [
  {
   "attachments": {},
   "cell_type": "markdown",
   "id": "123456",
   "metadata": {},
   "source": [
    "<div style=\"text-align:left;font-size:2em\"><span style=\"font-weight:bolder;font-size:1.25em\">SP2273 | Learning Portfolio</span><br><br><span style=\"font-weight:bold;color:darkred\">Loops (Good) Exercises</span></div>"
   ]
  },
  {
   "cell_type": "markdown",
   "id": "429aa702-a9a9-4b4d-97cd-0ac46028fa34",
   "metadata": {},
   "source": [
    "**Exercise 1**"
   ]
  },
  {
   "cell_type": "code",
   "execution_count": 9,
   "id": "8137e505-592d-46b1-8a62-954499fdd262",
   "metadata": {},
   "outputs": [
    {
     "name": "stdout",
     "output_type": "stream",
     "text": [
      "[1, 9, 25, 49, 81]\n"
     ]
    }
   ],
   "source": [
    "squares_of_odds=[] #where the odd numbers are going to be stored \n",
    "for number in range(10): #for numbers 0-9\n",
    "    if number %2 == 0: #check if the number is even by dividing by 2, no remainders\n",
    "        continue #if number is even, skip and go to next number\n",
    "    squares_of_odds.append(number**2) #calculate square and add to list\n",
    "\n",
    "print(squares_of_odds)\n"
   ]
  },
  {
   "cell_type": "markdown",
   "id": "b8f32e69-1862-42d2-a28a-e8b51cc4d9d9",
   "metadata": {},
   "source": [
    "**Exercise 2**"
   ]
  },
  {
   "cell_type": "code",
   "execution_count": 10,
   "id": "efbe898f-5531-490a-9235-94c43afad225",
   "metadata": {},
   "outputs": [
    {
     "name": "stdout",
     "output_type": "stream",
     "text": [
      "[1, 9, 25, 49, 81]\n"
     ]
    }
   ],
   "source": [
    "squears_of_odds=[number**2 for number in range(10) if number % 2 !=0]\n",
    "print(squares_of_odds)\n",
    "# % 2 !=0 used to check if the no. is divisible by 2 "
   ]
  },
  {
   "cell_type": "markdown",
   "id": "c218041a-e76c-4375-9c31-b1f66f394aaf",
   "metadata": {},
   "source": [
    "**Exercise 3**"
   ]
  },
  {
   "cell_type": "code",
   "execution_count": 6,
   "id": "fd4d4665-d564-4af7-b4df-eb5eaab49e2a",
   "metadata": {},
   "outputs": [
    {
     "name": "stdout",
     "output_type": "stream",
     "text": [
      "453 ns ± 7.06 ns per loop (mean ± std. dev. of 7 runs, 1,000,000 loops each)\n"
     ]
    }
   ],
   "source": [
    "%%timeit\n",
    "\n",
    "squares_of_odds=[] \n",
    "for number in range(10):\n",
    "    if number %2==0: \n",
    "        continue\n",
    "    squares_of_odds.append(number**2)"
   ]
  },
  {
   "cell_type": "code",
   "execution_count": 7,
   "id": "f9f92934-f6fc-427d-87c1-2de2c97d439a",
   "metadata": {},
   "outputs": [
    {
     "name": "stdout",
     "output_type": "stream",
     "text": [
      "533 ns ± 200 ns per loop (mean ± std. dev. of 7 runs, 1,000,000 loops each)\n"
     ]
    }
   ],
   "source": [
    "%%timeit \n",
    "\n",
    "squears_of_odds=[number**2 for number in range(10) if number % 2 !=0]"
   ]
  },
  {
   "cell_type": "markdown",
   "id": "262b8b7b-22e7-48c3-83d3-e2e2e85884d1",
   "metadata": {},
   "source": [
    "Between the two solutions, the first method was faster.\n",
    "This is because the code took 453 ns to run with a standard deviation if 7.06 ns per loop "
   ]
  },
  {
   "cell_type": "markdown",
   "id": "bdc46827-3f7a-4224-98f7-4d8a697e2bbd",
   "metadata": {},
   "source": [
    "**Exercise 4**"
   ]
  },
  {
   "cell_type": "code",
   "execution_count": 15,
   "id": "83fada2f-fa83-4831-a49b-7a720c95c13f",
   "metadata": {},
   "outputs": [
    {
     "name": "stdout",
     "output_type": "stream",
     "text": [
      "It will take 14 years for the sample to reduce to half its original amount\n"
     ]
    }
   ],
   "source": [
    "#initial data \n",
    "initial_amount = 100\n",
    "final_amount = 50\n",
    "current_amount = initial_amount\n",
    "years = 0\n",
    "\n",
    "while current_amount > final_amount:\n",
    "    current_amount *=0.95 #decreases by 5% each year\n",
    "    years += 1\n",
    "\n",
    "print(f'It will take {years} years for the sample to reduce to half its original amount')\n"
   ]
  },
  {
   "cell_type": "markdown",
   "id": "20872f20-0a14-4e07-9d54-e5e805275a79",
   "metadata": {},
   "source": [
    "**Exercise 5**"
   ]
  },
  {
   "cell_type": "code",
   "execution_count": 20,
   "id": "647ed22c-4e36-4424-b1cc-6689807ee316",
   "metadata": {},
   "outputs": [
    {
     "name": "stdout",
     "output_type": "stream",
     "text": [
      "In 2016, CO₂ level increased by 3.41 ppm compared to 2015.\n"
     ]
    }
   ],
   "source": [
    "co2_data = [\n",
    "    (2000, 369.55), (2001, 371.14), (2002, 373.28), \n",
    "    (2003, 375.80), (2004, 377.52), (2005, 379.80), \n",
    "    (2006, 381.90), (2007, 383.79), (2008, 385.60), \n",
    "    (2009, 387.43), (2010, 389.90), (2011, 391.65), \n",
    "    (2012, 393.85), (2013, 396.52), (2014, 398.65),\n",
    "    (2015, 400.83), (2016, 404.24), (2017, 406.55), \n",
    "    (2018, 408.52), (2019, 411.44), (2020, 414.24)\n",
    "]\n",
    "\n",
    "\n",
    "for i in range(1, len(co2_data)):\n",
    "    previous_year, previous_level = co2_data[i - 1]\n",
    "    current_year, current_level = co2_data[i]\n",
    "    change = current_level - previous_level\n",
    "    \n",
    "    if change >= 3:\n",
    "        print(f\"In {current_year}, CO₂ level increased by {change:.2f} ppm compared to {previous_year}.\")\n"
   ]
  },
  {
   "cell_type": "code",
   "execution_count": null,
   "id": "c8a8afc3-0c62-423b-b2b2-c22ac4878262",
   "metadata": {},
   "outputs": [],
   "source": []
  }
 ],
 "metadata": {
  "kernelspec": {
   "display_name": "Python 3 (ipykernel)",
   "language": "python",
   "name": "python3"
  },
  "language_info": {
   "codemirror_mode": {
    "name": "ipython",
    "version": 3
   },
   "file_extension": ".py",
   "mimetype": "text/x-python",
   "name": "python",
   "nbconvert_exporter": "python",
   "pygments_lexer": "ipython3",
   "version": "3.12.2"
  },
  "toc": {
   "base_numbering": 1,
   "nav_menu": {},
   "number_sections": true,
   "sideBar": true,
   "skip_h1_title": false,
   "title_cell": "Table of Contents",
   "title_sidebar": "Contents",
   "toc_cell": false,
   "toc_position": {},
   "toc_section_display": true,
   "toc_window_display": false
  },
  "vscode": {
   "interpreter": {
    "hash": "31f2aee4e71d21fbe5cf8b01ff0e069b9275f58929596ceb00d14d90e3e16cd6"
   }
  }
 },
 "nbformat": 4,
 "nbformat_minor": 5
}
