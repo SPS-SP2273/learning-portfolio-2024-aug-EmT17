{
 "cells": [
  {
   "attachments": {},
   "cell_type": "markdown",
   "id": "123456",
   "metadata": {},
   "source": [
    "<div style=\"text-align:left;font-size:2em\"><span style=\"font-weight:bolder;font-size:1.25em\">SP2273 | Learning Portfolio</span><br><br><span style=\"font-weight:bold;color:darkred\">Fundamentals (Need) Exercises</span></div>"
   ]
  },
  {
   "cell_type": "markdown",
   "id": "6f62e7a9-f394-4fa6-8047-bfc1bd3133cc",
   "metadata": {},
   "source": [
    "# **Exercise 1**"
   ]
  },
  {
   "cell_type": "markdown",
   "id": "5d27d6c7-1633-4906-8a78-4e14dfc394c5",
   "metadata": {},
   "source": [
    "1. Markdown cell accepts texts\n",
    "2. code cell accepts python codes\n",
    "3. rendering the cells\n",
    "4. syntax in markdown\n",
    "5. kernel\n",
    "6. _shell magic_\n",
    "7. _listing_\n",
    "8. _producing math equations_\n",
    "9. function\n",
    "10. arguments\n",
    "11. libraries\n",
    "12. package imports \n",
    "13. storing data in dictionaries\n",
    "14. comments are to tell you the purpose of the code\n",
    "15. interpreter\n",
    "16. = is to say something is equal == is to check\n",
    "17. indentations\n",
    "18. () is for maths, [] is for lists and {} is for dictionaries\n",
    "19. %%timeit - shows how long it takes for the code to run"
   ]
  },
  {
   "cell_type": "markdown",
   "id": "769fd339-4418-4a62-804b-73f4847de830",
   "metadata": {},
   "source": [
    "# **Exercise 2**"
   ]
  },
  {
   "cell_type": "code",
   "execution_count": 42,
   "id": "eabeb702-2b8f-4a5b-9bc5-e686e4a62db7",
   "metadata": {},
   "outputs": [
    {
     "name": "stdout",
     "output_type": "stream",
     "text": [
      "3 4 5.0\n"
     ]
    }
   ],
   "source": [
    "import math\n",
    "\n",
    "x, y = 3, 4\n",
    "z = math.sqrt(x**2 + y**2)\n",
    "print(x, y, z)"
   ]
  },
  {
   "cell_type": "markdown",
   "id": "ae4794e3-02d2-4952-9f27-85036a51e066",
   "metadata": {},
   "source": [
    "# **Exercise 3**"
   ]
  },
  {
   "cell_type": "markdown",
   "id": "1301f3f5-d631-4a67-ab69-e6e02523dc65",
   "metadata": {},
   "source": [
    "| #    |  **Terms**  |   **Description** |\n",
    "| :--- | :--: | ---: |\n",
    "| 1    |  Function  | It is a set of instructions that will carry out a  task |\n",
    "| 2    |  Arguments  | They are the variables/values inside the function |\n",
    "| 3    |  Comments  | Short inputs to explain the purpose of the code |\n",
    "| 4    |  Indentations  | Spaces that indicate the block of a code |\n",
    "| 5    |  Packages  | It contains modules that perform specific tasks |\n",
    "| 6    |  .  | It allows you to accesss blocks|\n",
    "| 7    |  :  | Allows you to pick a block |\n",
    "| 8    |  []  | Is used to list data |\n",
    "| 9    |  [[],[]]  | A list that contains two other lists |\n",
    "| 10   |  {}  | Stores data in a dictionary which stores data in key value pairs |"
   ]
  },
  {
   "cell_type": "markdown",
   "id": "e14d0f2c-b128-4e2e-8a25-0aaced3fa6cf",
   "metadata": {},
   "source": [
    "# **Exercise 4**"
   ]
  },
  {
   "cell_type": "code",
   "execution_count": 10,
   "id": "98d0acd4-3bb6-4ba4-96b5-2defb5734b10",
   "metadata": {},
   "outputs": [
    {
     "data": {
      "text/plain": [
       "2.5"
      ]
     },
     "execution_count": 10,
     "metadata": {},
     "output_type": "execute_result"
    }
   ],
   "source": [
    "5/2        # divides 5 by 2 normally and gives the full result with the decimal place (floating number)"
   ]
  },
  {
   "cell_type": "code",
   "execution_count": 11,
   "id": "71b9091d-37a6-44ea-ba40-825c6cd654bb",
   "metadata": {},
   "outputs": [
    {
     "data": {
      "text/plain": [
       "2"
      ]
     },
     "execution_count": 11,
     "metadata": {},
     "output_type": "execute_result"
    }
   ],
   "source": [
    "5//2       # divides 5 by 2 but rounds down to the nearest whole number (floor division)"
   ]
  },
  {
   "cell_type": "code",
   "execution_count": 12,
   "id": "aa3663e6-3485-4536-aa98-b265bb485f0b",
   "metadata": {},
   "outputs": [
    {
     "data": {
      "text/plain": [
       "1"
      ]
     },
     "execution_count": 12,
     "metadata": {},
     "output_type": "execute_result"
    }
   ],
   "source": [
    "5%2        # divides 5 by 2 and gives the remainder (modulus)"
   ]
  },
  {
   "cell_type": "code",
   "execution_count": null,
   "id": "6fbf2c17-59a0-48b6-af1a-3547b4f40ad9",
   "metadata": {},
   "outputs": [],
   "source": []
  }
 ],
 "metadata": {
  "kernelspec": {
   "display_name": "Python 3 (ipykernel)",
   "language": "python",
   "name": "python3"
  },
  "language_info": {
   "codemirror_mode": {
    "name": "ipython",
    "version": 3
   },
   "file_extension": ".py",
   "mimetype": "text/x-python",
   "name": "python",
   "nbconvert_exporter": "python",
   "pygments_lexer": "ipython3",
   "version": "3.12.2"
  },
  "toc": {
   "base_numbering": 1,
   "nav_menu": {},
   "number_sections": true,
   "sideBar": true,
   "skip_h1_title": false,
   "title_cell": "Table of Contents",
   "title_sidebar": "Contents",
   "toc_cell": false,
   "toc_position": {},
   "toc_section_display": true,
   "toc_window_display": false
  },
  "vscode": {
   "interpreter": {
    "hash": "31f2aee4e71d21fbe5cf8b01ff0e069b9275f58929596ceb00d14d90e3e16cd6"
   }
  }
 },
 "nbformat": 4,
 "nbformat_minor": 5
}
