{
 "cells": [
  {
   "attachments": {},
   "cell_type": "markdown",
   "id": "123456",
   "metadata": {},
   "source": [
    "<div style=\"text-align:left;font-size:2em\"><span style=\"font-weight:bolder;font-size:1.25em\">SP2273 | Learning Portfolio</span><br><br><span style=\"font-weight:bold;color:darkred\">Fundamentals (Good)</span></div>"
   ]
  },
  {
   "cell_type": "code",
   "execution_count": 26,
   "id": "8bf5ec6b-e6bc-42d9-b290-b995e483d53a",
   "metadata": {},
   "outputs": [],
   "source": [
    "import numpy as np"
   ]
  },
  {
   "attachments": {},
   "cell_type": "markdown",
   "id": "905a2804",
   "metadata": {},
   "source": [
    "# What to expect in this chapter"
   ]
  },
  {
   "cell_type": "code",
   "execution_count": 1,
   "id": "27f4ba9b-194b-4eec-9a36-d4c0f9df1bf9",
   "metadata": {},
   "outputs": [
    {
     "name": "stdout",
     "output_type": "stream",
     "text": [
      "Hello Batman!\n"
     ]
    }
   ],
   "source": [
    "name = 'Batman'\n",
    "\n",
    "if name == 'Batman':\n",
    "    print('Hello Batman!')\n",
    "elif name == 'Robin':\n",
    "    print('Hello Sidekick!')\n",
    "else:\n",
    "    print('Hello World!')"
   ]
  },
  {
   "attachments": {},
   "cell_type": "markdown",
   "id": "00fd727e",
   "metadata": {},
   "source": [
    "# 1 There is more to if"
   ]
  },
  {
   "attachments": {},
   "cell_type": "markdown",
   "id": "ec5f18e0",
   "metadata": {},
   "source": [
    "# 2 Asking questions"
   ]
  },
  {
   "cell_type": "code",
   "execution_count": 2,
   "id": "b50ae7e9-22d6-4244-927b-57744df1b6a7",
   "metadata": {},
   "outputs": [],
   "source": [
    "fruits = ['apple', 'banana', 'pineapple', 'jackfruit']\n",
    "vegetables = ['celery', 'potato', 'broccoli', 'kale']"
   ]
  },
  {
   "cell_type": "code",
   "execution_count": 3,
   "id": "b86ae357-0c20-4710-9761-9912fbd69b4e",
   "metadata": {},
   "outputs": [
    {
     "name": "stdout",
     "output_type": "stream",
     "text": [
      "wee\n"
     ]
    }
   ],
   "source": [
    "if 'apple'in fruits:\n",
    "    print('wee')"
   ]
  },
  {
   "cell_type": "code",
   "execution_count": 6,
   "id": "f5af8920-ce23-492c-ab00-9d698a3d6279",
   "metadata": {},
   "outputs": [
    {
     "data": {
      "text/plain": [
       "True"
      ]
     },
     "execution_count": 6,
     "metadata": {},
     "output_type": "execute_result"
    }
   ],
   "source": [
    "'peach' not in fruits\n"
   ]
  },
  {
   "cell_type": "code",
   "execution_count": 8,
   "id": "b8c052c8-e88d-4571-b2bd-aebc069f6c12",
   "metadata": {},
   "outputs": [
    {
     "data": {
      "text/plain": [
       "True"
      ]
     },
     "execution_count": 8,
     "metadata": {},
     "output_type": "execute_result"
    }
   ],
   "source": [
    "('apple' in fruits) and ('celery' in vegetables)"
   ]
  },
  {
   "cell_type": "code",
   "execution_count": 9,
   "id": "ab50bf3a-d4bd-4326-bc47-27c5313913a2",
   "metadata": {},
   "outputs": [
    {
     "data": {
      "text/plain": [
       "True"
      ]
     },
     "execution_count": 9,
     "metadata": {},
     "output_type": "execute_result"
    }
   ],
   "source": [
    "'apple' in fruits and 'celery' in vegetables"
   ]
  },
  {
   "cell_type": "code",
   "execution_count": 10,
   "id": "71f7d2fe-7623-4731-b12a-ceedbcaf3d09",
   "metadata": {},
   "outputs": [
    {
     "data": {
      "text/plain": [
       "True"
      ]
     },
     "execution_count": 10,
     "metadata": {},
     "output_type": "execute_result"
    }
   ],
   "source": [
    "('apple' in fruits) or ('celery' in vegetables)"
   ]
  },
  {
   "cell_type": "code",
   "execution_count": 11,
   "id": "3f391d4f-143f-421c-907b-bcfefaa02168",
   "metadata": {},
   "outputs": [
    {
     "data": {
      "text/plain": [
       "True"
      ]
     },
     "execution_count": 11,
     "metadata": {},
     "output_type": "execute_result"
    }
   ],
   "source": [
    "'app' in 'apple'"
   ]
  },
  {
   "cell_type": "code",
   "execution_count": 12,
   "id": "344da352-942a-4d25-92ce-2cd910cbc7ad",
   "metadata": {},
   "outputs": [
    {
     "data": {
      "text/plain": [
       "False"
      ]
     },
     "execution_count": 12,
     "metadata": {},
     "output_type": "execute_result"
    }
   ],
   "source": [
    "'apples' > 'oranges'"
   ]
  },
  {
   "cell_type": "code",
   "execution_count": 13,
   "id": "3de1c488-020f-4d57-9231-fbcbb66e791f",
   "metadata": {},
   "outputs": [
    {
     "data": {
      "text/plain": [
       "True"
      ]
     },
     "execution_count": 13,
     "metadata": {},
     "output_type": "execute_result"
    }
   ],
   "source": [
    "'apple' > 'Arranges'"
   ]
  },
  {
   "cell_type": "code",
   "execution_count": 14,
   "id": "3d989085-f768-434a-bc0f-51468940672a",
   "metadata": {},
   "outputs": [
    {
     "data": {
      "text/plain": [
       "97"
      ]
     },
     "execution_count": 14,
     "metadata": {},
     "output_type": "execute_result"
    }
   ],
   "source": [
    "ord('a')"
   ]
  },
  {
   "attachments": {},
   "cell_type": "markdown",
   "id": "f3cd13f6",
   "metadata": {},
   "source": [
    "## 2.1 Asking Math questions"
   ]
  },
  {
   "attachments": {},
   "cell_type": "markdown",
   "id": "f86fd89e",
   "metadata": {},
   "source": [
    "# 3 Python stores information in different formats or types"
   ]
  },
  {
   "cell_type": "code",
   "execution_count": 24,
   "id": "2059876a-0598-4967-8261-6ef3814d5baf",
   "metadata": {},
   "outputs": [
    {
     "name": "stdout",
     "output_type": "stream",
     "text": [
      "Original:  1 <class 'int'>\n"
     ]
    }
   ],
   "source": [
    "x = int(1.234)\n",
    "print('Original: ',x, type(x))"
   ]
  },
  {
   "cell_type": "code",
   "execution_count": 23,
   "id": "c6173231-8eb2-4910-a59c-b1212ae5be56",
   "metadata": {},
   "outputs": [
    {
     "name": "stdout",
     "output_type": "stream",
     "text": [
      "Original:  1.234 <class 'float'>\n"
     ]
    }
   ],
   "source": [
    "x = 1.234\n",
    "print('Original: ',x, type(x))"
   ]
  },
  {
   "cell_type": "code",
   "execution_count": 22,
   "id": "b4dfbad8-8455-41ad-bb84-6731a42fe7a9",
   "metadata": {},
   "outputs": [
    {
     "name": "stdout",
     "output_type": "stream",
     "text": [
      "Original:  1.234 <class 'str'>\n"
     ]
    }
   ],
   "source": [
    "x = str(1.234)\n",
    "print('Original: ',x, type(x))"
   ]
  },
  {
   "cell_type": "code",
   "execution_count": 21,
   "id": "8f414ebc-a353-4900-86fa-a0cc469628c8",
   "metadata": {},
   "outputs": [
    {
     "data": {
      "text/plain": [
       "'1.2341.2341.2341.2341.234'"
      ]
     },
     "execution_count": 21,
     "metadata": {},
     "output_type": "execute_result"
    }
   ],
   "source": [
    "'1.234'*5"
   ]
  },
  {
   "cell_type": "code",
   "execution_count": 28,
   "id": "649061b6-802f-4449-af38-1bb1c562522d",
   "metadata": {},
   "outputs": [
    {
     "data": {
      "text/plain": [
       "np.float32(2.0)"
      ]
     },
     "execution_count": 28,
     "metadata": {},
     "output_type": "execute_result"
    }
   ],
   "source": [
    "np.sqrt(4, dtype='float32')"
   ]
  },
  {
   "cell_type": "code",
   "execution_count": 29,
   "id": "10773f75-7e72-475a-bfd3-73800733a569",
   "metadata": {},
   "outputs": [
    {
     "name": "stdout",
     "output_type": "stream",
     "text": [
      "(1.234+0j) <class 'complex'>\n"
     ]
    }
   ],
   "source": [
    "x = complex(1.234)\n",
    "print(x, type(x))"
   ]
  },
  {
   "attachments": {},
   "cell_type": "markdown",
   "id": "f3bfef7c",
   "metadata": {},
   "source": [
    "# 4 Never compare floats directly"
   ]
  },
  {
   "cell_type": "code",
   "execution_count": 30,
   "id": "c642e7a2-7e59-480e-8f33-4a5c613bc6ac",
   "metadata": {},
   "outputs": [
    {
     "data": {
      "text/plain": [
       "False"
      ]
     },
     "execution_count": 30,
     "metadata": {},
     "output_type": "execute_result"
    }
   ],
   "source": [
    "a = 0.1\n",
    "a3 = 0.3\n",
    "a * 3 == a3``"
   ]
  },
  {
   "cell_type": "code",
   "execution_count": 32,
   "id": "9e394601-876a-4735-a3db-ca4ce4a5a94e",
   "metadata": {},
   "outputs": [
    {
     "data": {
      "text/plain": [
       "0.30000000000000004"
      ]
     },
     "execution_count": 32,
     "metadata": {},
     "output_type": "execute_result"
    }
   ],
   "source": [
    "a*3"
   ]
  },
  {
   "cell_type": "code",
   "execution_count": 33,
   "id": "ff85d849-d11d-427f-b4a4-c44229c12e43",
   "metadata": {},
   "outputs": [
    {
     "data": {
      "text/plain": [
       "True"
      ]
     },
     "execution_count": 33,
     "metadata": {},
     "output_type": "execute_result"
    }
   ],
   "source": [
    "A = 1\n",
    "A3 = 3\n",
    "A * 3 == A3"
   ]
  },
  {
   "cell_type": "code",
   "execution_count": 37,
   "id": "cb16aa20-b70c-44d4-bf16-f209fadc28f4",
   "metadata": {},
   "outputs": [
    {
     "data": {
      "text/plain": [
       "True"
      ]
     },
     "execution_count": 37,
     "metadata": {},
     "output_type": "execute_result"
    }
   ],
   "source": [
    "eps = 1E-15 # 1 x 10^(-15)\n",
    "abs(a3 - a*3) < eps"
   ]
  },
  {
   "cell_type": "code",
   "execution_count": 35,
   "id": "fadfba80-3665-438b-abba-73637c885f65",
   "metadata": {},
   "outputs": [
    {
     "data": {
      "text/plain": [
       "np.True_"
      ]
     },
     "execution_count": 35,
     "metadata": {},
     "output_type": "execute_result"
    }
   ],
   "source": [
    "np.isclose(a3, a*3)"
   ]
  },
  {
   "cell_type": "code",
   "execution_count": null,
   "id": "bbec2566-128a-4e39-bcd0-f04b505ed72a",
   "metadata": {},
   "outputs": [],
   "source": []
  },
  {
   "attachments": {},
   "cell_type": "markdown",
   "id": "a33eefe8",
   "metadata": {},
   "source": [
    "## 4.1 The Problem"
   ]
  },
  {
   "attachments": {},
   "cell_type": "markdown",
   "id": "d791665e",
   "metadata": {},
   "source": [
    "## 4.2 A solution"
   ]
  },
  {
   "attachments": {},
   "cell_type": "markdown",
   "id": "5baeecea",
   "metadata": {},
   "source": [
    "# 5 Combining English and variables"
   ]
  },
  {
   "cell_type": "code",
   "execution_count": 38,
   "id": "226eabc3-0c6a-4a80-b5ff-86a11e9c93f8",
   "metadata": {},
   "outputs": [
    {
     "name": "stdout",
     "output_type": "stream",
     "text": [
      "Hello BATMAN!\n"
     ]
    }
   ],
   "source": [
    "mmm_name = \"Batman\"\n",
    "print(f\"Hello {name.upper()}!\")"
   ]
  },
  {
   "cell_type": "code",
   "execution_count": 47,
   "id": "7ebd9851-6d0b-43cc-bd01-94c9b7bd0625",
   "metadata": {},
   "outputs": [
    {
     "ename": "NameError",
     "evalue": "name 'mmm_name' is not defined",
     "output_type": "error",
     "traceback": [
      "\u001b[0;31m---------------------------------------------------------------------------\u001b[0m",
      "\u001b[0;31mNameError\u001b[0m                                 Traceback (most recent call last)",
      "Cell \u001b[0;32mIn[47], line 1\u001b[0m\n\u001b[0;32m----> 1\u001b[0m \u001b[38;5;28mprint\u001b[39m(\u001b[38;5;124mf\u001b[39m\u001b[38;5;124m'\u001b[39m\u001b[38;5;132;01m{\u001b[39;00m\u001b[43mmmm_name\u001b[49m\u001b[38;5;250m \u001b[39m\u001b[38;5;132;01m=}\u001b[39;00m\u001b[38;5;124m'\u001b[39m)\n",
      "\u001b[0;31mNameError\u001b[0m: name 'mmm_name' is not defined"
     ]
    }
   ],
   "source": [
    "print(f'{mmm_name =}')"
   ]
  },
  {
   "cell_type": "code",
   "execution_count": 39,
   "id": "24ba07c7-cd5c-4b42-ab34-e5a5e571639d",
   "metadata": {},
   "outputs": [
    {
     "ename": "SyntaxError",
     "evalue": "unterminated string literal (detected at line 1) (2199377966.py, line 1)",
     "output_type": "error",
     "traceback": [
      "\u001b[0;36m  Cell \u001b[0;32mIn[39], line 1\u001b[0;36m\u001b[0m\n\u001b[0;31m    filename = f''experiment_{date}_{sample}.txt'\u001b[0m\n\u001b[0m                                                ^\u001b[0m\n\u001b[0;31mSyntaxError\u001b[0m\u001b[0;31m:\u001b[0m unterminated string literal (detected at line 1)\n"
     ]
    }
   ],
   "source": [
    "filename = f''experiment_{date}_{sample}.txt'"
   ]
  },
  {
   "cell_type": "code",
   "execution_count": 46,
   "id": "ad02bbd8-e857-42d0-8dbc-cc0e56a6333d",
   "metadata": {},
   "outputs": [
    {
     "name": "stdout",
     "output_type": "stream",
     "text": [
      "The value of 10 'squared' is 100!\n"
     ]
    }
   ],
   "source": [
    "x = 10\n",
    "print(f\"The value of {x} 'squared' is {x**2}!\")"
   ]
  },
  {
   "cell_type": "code",
   "execution_count": 45,
   "id": "566db27d-11e6-4021-bcd1-fad07403bbf7",
   "metadata": {},
   "outputs": [
    {
     "name": "stdout",
     "output_type": "stream",
     "text": [
      "The value of 10 squared is 100!\n"
     ]
    }
   ],
   "source": [
    "x = 10\n",
    "print(f'The value of {x} squared is {x**2}!')"
   ]
  },
  {
   "attachments": {},
   "cell_type": "markdown",
   "id": "960df0fb",
   "metadata": {},
   "source": [
    "## 5.1 Structure of f-strings"
   ]
  },
  {
   "cell_type": "code",
   "execution_count": 51,
   "id": "ad162233-7549-40b7-b5af-bda7682c7914",
   "metadata": {},
   "outputs": [
    {
     "name": "stdout",
     "output_type": "stream",
     "text": [
      "10\n"
     ]
    }
   ],
   "source": [
    "text = 'Bruce Wayne is Batman.'\n",
    "print(f'{10:>0}')"
   ]
  },
  {
   "cell_type": "code",
   "execution_count": 57,
   "id": "0cb406a9-3c56-48a0-a8f5-4af7f047c643",
   "metadata": {},
   "outputs": [
    {
     "name": "stdout",
     "output_type": "stream",
     "text": [
      "The cube of pi to 6 decimal places is  3.101e+01\n"
     ]
    }
   ],
   "source": [
    "print(f'The cube of pi to 6 decimal places is {np.pi**3: 10.3e}')"
   ]
  },
  {
   "attachments": {},
   "cell_type": "markdown",
   "id": "b17b73ed",
   "metadata": {},
   "source": [
    "# 6 Escape sequences"
   ]
  },
  {
   "cell_type": "code",
   "execution_count": 60,
   "id": "af3bc1e8-6d85-43f0-8b79-1768b9368dde",
   "metadata": {},
   "outputs": [
    {
     "name": "stdout",
     "output_type": "stream",
     "text": [
      "Hahaha\n",
      "Woooo\n"
     ]
    }
   ],
   "source": [
    "print('Hahaha\\nWoooo')"
   ]
  },
  {
   "cell_type": "code",
   "execution_count": 1,
   "id": "516736ad-ee5d-4000-be34-598b264d8a9e",
   "metadata": {},
   "outputs": [
    {
     "name": "stdout",
     "output_type": "stream",
     "text": [
      "You're twenty years old.\n"
     ]
    }
   ],
   "source": [
    "print('You\\'re twenty years old.') "
   ]
  },
  {
   "cell_type": "code",
   "execution_count": 5,
   "id": "aeace2af-e402-42c0-b394-0034efa1bd94",
   "metadata": {},
   "outputs": [
    {
     "name": "stdout",
     "output_type": "stream",
     "text": [
      "AB\\C\n"
     ]
    }
   ],
   "source": [
    "print('AB\\\\C')"
   ]
  },
  {
   "cell_type": "code",
   "execution_count": 7,
   "id": "989e80ca-8282-4fa8-ba46-588bd66e240b",
   "metadata": {},
   "outputs": [
    {
     "name": "stdout",
     "output_type": "stream",
     "text": [
      "AB'C\n"
     ]
    }
   ],
   "source": [
    "print('AB\\'C')"
   ]
  },
  {
   "cell_type": "code",
   "execution_count": null,
   "id": "55c241d1-1750-469c-bd22-d253c2e3d44e",
   "metadata": {},
   "outputs": [],
   "source": []
  },
  {
   "attachments": {},
   "cell_type": "markdown",
   "id": "fdf977f0",
   "metadata": {},
   "source": [
    "## 6.1 Self-documenting f-strings"
   ]
  },
  {
   "cell_type": "code",
   "execution_count": null,
   "id": "250f58f7-d986-4710-82cd-156e9b42c92e",
   "metadata": {},
   "outputs": [],
   "source": []
  },
  {
   "attachments": {},
   "cell_type": "markdown",
   "id": "e265e998",
   "metadata": {},
   "source": [
    "# 7 Computers read = from Right to Left!"
   ]
  },
  {
   "cell_type": "code",
   "execution_count": 8,
   "id": "29ec08e3-2df9-4455-af8c-426a21751b0f",
   "metadata": {},
   "outputs": [],
   "source": [
    "x = 40\n",
    "y = x + 2"
   ]
  },
  {
   "cell_type": "code",
   "execution_count": 9,
   "id": "e9cdbd0b-13a8-4e1f-bb5f-374bf1bd9f4f",
   "metadata": {},
   "outputs": [
    {
     "name": "stdout",
     "output_type": "stream",
     "text": [
      "42\n"
     ]
    }
   ],
   "source": [
    "print(y)"
   ]
  },
  {
   "cell_type": "code",
   "execution_count": 11,
   "id": "6edc94d2-d07e-4982-9593-d0c28fe3f383",
   "metadata": {},
   "outputs": [
    {
     "name": "stdout",
     "output_type": "stream",
     "text": [
      "42\n"
     ]
    }
   ],
   "source": [
    "x = 40\n",
    "y = x + 2\n",
    "print(y)"
   ]
  },
  {
   "cell_type": "code",
   "execution_count": null,
   "id": "1e4148b4-afc4-4c85-aeb7-150901ea7e68",
   "metadata": {},
   "outputs": [],
   "source": [
    "x = y = 10"
   ]
  },
  {
   "attachments": {},
   "cell_type": "markdown",
   "id": "fe4316f5-44e0-4c5f-824f-ad30b2fc6e47",
   "metadata": {},
   "source": [
    "# 8 Shorter and Cleaner Code"
   ]
  },
  {
   "cell_type": "code",
   "execution_count": null,
   "id": "9036603c-e021-46f5-93f5-4ef09ef87175",
   "metadata": {},
   "outputs": [],
   "source": [
    "y = 40\n",
    "y = y + 2\n",
    "y\n",
    "\n",
    "y = 40\n",
    "y += 2    # Same as y = y + 2\n",
    "y"
   ]
  },
  {
   "cell_type": "code",
   "execution_count": null,
   "id": "d6a6f4ff-14a1-4272-97b1-d55af815fa81",
   "metadata": {},
   "outputs": [],
   "source": []
  },
  {
   "attachments": {},
   "cell_type": "markdown",
   "id": "000090fe",
   "metadata": {},
   "source": [
    "# 9 Python can be a prima-donna."
   ]
  },
  {
   "attachments": {},
   "cell_type": "markdown",
   "id": "80244749",
   "metadata": {},
   "source": [
    "# 10 Best Practices for Scientific Computing"
   ]
  },
  {
   "attachments": {},
   "cell_type": "markdown",
   "id": "92f23f4a",
   "metadata": {},
   "source": [
    "# 11 Looking for help"
   ]
  },
  {
   "attachments": {},
   "cell_type": "markdown",
   "id": "e9773da1",
   "metadata": {},
   "source": [
    "## References"
   ]
  },
  {
   "attachments": {},
   "cell_type": "markdown",
   "id": "5e44a6fb",
   "metadata": {},
   "source": [
    "## Footnotes"
   ]
  }
 ],
 "metadata": {
  "kernelspec": {
   "display_name": "Python 3 (ipykernel)",
   "language": "python",
   "name": "python3"
  },
  "language_info": {
   "codemirror_mode": {
    "name": "ipython",
    "version": 3
   },
   "file_extension": ".py",
   "mimetype": "text/x-python",
   "name": "python",
   "nbconvert_exporter": "python",
   "pygments_lexer": "ipython3",
   "version": "3.12.2"
  },
  "toc": {
   "base_numbering": 1,
   "nav_menu": {},
   "number_sections": true,
   "sideBar": true,
   "skip_h1_title": false,
   "title_cell": "Table of Contents",
   "title_sidebar": "Contents",
   "toc_cell": false,
   "toc_position": {},
   "toc_section_display": true,
   "toc_window_display": false
  },
  "vscode": {
   "interpreter": {
    "hash": "31f2aee4e71d21fbe5cf8b01ff0e069b9275f58929596ceb00d14d90e3e16cd6"
   }
  }
 },
 "nbformat": 4,
 "nbformat_minor": 5
}
