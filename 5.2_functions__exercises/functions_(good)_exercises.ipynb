{
 "cells": [
  {
   "attachments": {},
   "cell_type": "markdown",
   "id": "123456",
   "metadata": {},
   "source": [
    "<div style=\"text-align:left;font-size:2em\"><span style=\"font-weight:bolder;font-size:1.25em\">SP2273 | Learning Portfolio</span><br><br><span style=\"font-weight:bold;color:darkred\">Functions (Good) Exercises</span></div>"
   ]
  },
  {
   "cell_type": "markdown",
   "id": "2780ce20-bab2-4d69-9681-b7f035c93b23",
   "metadata": {},
   "source": [
    "**Exercise 1**"
   ]
  },
  {
   "cell_type": "code",
   "execution_count": 5,
   "id": "a46eaa99-24ed-4c85-84e5-2050ab8cf44e",
   "metadata": {},
   "outputs": [
    {
     "name": "stdout",
     "output_type": "stream",
     "text": [
      "77.0\n",
      "298.15\n",
      "32.0\n",
      "273.15\n"
     ]
    }
   ],
   "source": [
    "def convert_celsius(temperature_celsius, target_scale='Farenheit'): #define function, w/ temp and scale we want\n",
    "    if target_scale == 'Kelvin': #if it is not Farenheit\n",
    "        return temperature_celsius + 273.15\n",
    "    else: #if it is to farenheit\n",
    "        return temperature_celsius * (9/5) + 32\n",
    "\n",
    "print(convert_celsius(25))            #convert to Farenheit\n",
    "print(convert_celsius(25, 'Kelvin'))  #convert to Kelvin\n",
    "print(convert_celsius(0))             #convert to Farenheit\n",
    "print(convert_celsius(0, 'Kelvin'))   #convert to Kelvin\n"
   ]
  },
  {
   "cell_type": "markdown",
   "id": "aea3edd2-bf60-493e-9821-2c85633bbef9",
   "metadata": {},
   "source": [
    "**Exercise 2**"
   ]
  },
  {
   "cell_type": "code",
   "execution_count": 7,
   "id": "1288631d-8285-4394-816e-b01c5b7e321c",
   "metadata": {},
   "outputs": [
    {
     "name": "stdout",
     "output_type": "stream",
     "text": [
      "-3.888888888888889\n",
      "269.26111111111106\n",
      "-17.77777777777778\n",
      "255.3722222222222\n"
     ]
    }
   ],
   "source": [
    "def convert_farenheit(temperature_farenheit, target_scale='Celsius'): #define function, w/ temp and scale we want\n",
    "    celsius = (temperature_farenheit - 32) * 5/9 #eq F to C\n",
    "    if target_scale == 'Kelvin': #if it is not Celsius\n",
    "        return celsius + 273.15 #celsius to kelvin \n",
    "    else:\n",
    "        return celsius \n",
    "       \n",
    "print(convert_farenheit(25))            #convert to celsius\n",
    "print(convert_farenheit(25, 'Kelvin'))  #convert to Kelvin\n",
    "print(convert_farenheit(0))             #convert to celsius\n",
    "print(convert_farenheit(0, 'Kelvin'))   #convert to Kelvin "
   ]
  },
  {
   "cell_type": "markdown",
   "id": "3595f8cf-6e0e-4617-9819-c6116a76ae90",
   "metadata": {},
   "source": [
    "**Exercise 3**"
   ]
  },
  {
   "cell_type": "code",
   "execution_count": 16,
   "id": "81dc4d46-f3f4-4cb7-9865-db85cac23677",
   "metadata": {},
   "outputs": [
    {
     "name": "stdout",
     "output_type": "stream",
     "text": [
      "77.0\n",
      "25.0\n",
      "26.850000000000023\n",
      "273.15\n",
      "273.15\n"
     ]
    }
   ],
   "source": [
    "# Function to convert Celsius to Fahrenheit or Kelvin\n",
    "def convert_from_celsius(temperature_celsius, target_scale):\n",
    "    if target_scale == 'Fahrenheit':\n",
    "        return temperature_celsius * (9 / 5) + 32\n",
    "    elif target_scale == 'Kelvin':\n",
    "        return temperature_celsius + 273.15\n",
    "\n",
    "# Function to convert Fahrenheit to Celsius or Kelvin\n",
    "def convert_from_fahrenheit(temperature_fahrenheit, target_scale):\n",
    "    celsius = (temperature_fahrenheit - 32) * (5 / 9)\n",
    "    if target_scale == 'Celsius':\n",
    "        return celsius\n",
    "    elif target_scale == 'Kelvin':\n",
    "        return celsius + 273.15\n",
    "\n",
    "# Function to convert Kelvin to Celsius or Fahrenheit\n",
    "def convert_from_kelvin(temperature_kelvin, target_scale):\n",
    "    celsius = temperature_kelvin - 273.15\n",
    "    if target_scale == 'Celsius':\n",
    "        return celsius\n",
    "    elif target_scale == 'Fahrenheit':\n",
    "        return celsius * (9 / 5) + 32\n",
    "\n",
    "#general conversion functions from the above functions\n",
    "def convert_temperature(temperature, source_scale, target_scale):\n",
    "    if source_scale == target_scale:\n",
    "        return temperature\n",
    "    \n",
    "    if source_scale == 'Celsius':\n",
    "        return convert_from_celsius(temperature, target_scale)\n",
    "    elif source_scale == 'Fahrenheit':\n",
    "        return convert_from_fahrenheit(temperature, target_scale)\n",
    "    elif source_scale == 'Kelvin':\n",
    "        return convert_from_kelvin(temperature, target_scale)\n",
    "\n",
    "print(convert_temperature(25, 'Celsius', 'Fahrenheit'))  # Converts 25°C to Fahrenheit\n",
    "print(convert_temperature(77, 'Fahrenheit', 'Celsius'))  # Converts 77°F to Celsius\n",
    "print(convert_temperature(300, 'Kelvin', 'Celsius'))     # Converts 300K to Celsius\n",
    "print(convert_temperature(0, 'Celsius', 'Kelvin'))       # Converts 0°C to Kelvin\n",
    "print(convert_temperature(32, 'Fahrenheit', 'Kelvin'))   # Converts 32°F to Kelvin\n"
   ]
  },
  {
   "cell_type": "code",
   "execution_count": null,
   "id": "db6cc67d-910d-47ce-8494-488c05d10b65",
   "metadata": {},
   "outputs": [],
   "source": []
  }
 ],
 "metadata": {
  "kernelspec": {
   "display_name": "Python 3 (ipykernel)",
   "language": "python",
   "name": "python3"
  },
  "language_info": {
   "codemirror_mode": {
    "name": "ipython",
    "version": 3
   },
   "file_extension": ".py",
   "mimetype": "text/x-python",
   "name": "python",
   "nbconvert_exporter": "python",
   "pygments_lexer": "ipython3",
   "version": "3.12.2"
  },
  "toc": {
   "base_numbering": 1,
   "nav_menu": {},
   "number_sections": true,
   "sideBar": true,
   "skip_h1_title": false,
   "title_cell": "Table of Contents",
   "title_sidebar": "Contents",
   "toc_cell": false,
   "toc_position": {},
   "toc_section_display": true,
   "toc_window_display": false
  },
  "vscode": {
   "interpreter": {
    "hash": "31f2aee4e71d21fbe5cf8b01ff0e069b9275f58929596ceb00d14d90e3e16cd6"
   }
  }
 },
 "nbformat": 4,
 "nbformat_minor": 5
}
