{
 "cells": [
  {
   "cell_type": "markdown",
   "id": "4cec7b62-7495-450c-972a-c27ea8c22ed0",
   "metadata": {},
   "source": [
    "# **Exercise 1**"
   ]
  },
  {
   "cell_type": "markdown",
   "id": "f21d28b6-3a87-4e3f-ba90-b09800a54e0f",
   "metadata": {},
   "source": [
    "## **1. Quadratic Equations**\n",
    "\n",
    "### **Introduction**\n",
    "\n",
    "![](https://upload.wikimedia.org/wikipedia/commons/thumb/f/f8/Polynomialdeg2.svg/300px-Polynomialdeg2.svg.png)\n",
    "\n",
    "(_Image from the [Wikipedia page on Quadratic equations](https://en.wikipedia.org/wiki/Quadratic_equation)_)\n",
    "\n",
    "The general form of a quadratic equation is: ${ax^2+bx+c=0}$\n",
    "\n",
    "### **Solutions**\n",
    "\n",
    "Provided $\\alpha$ $\\ne$ 0 we can use an elementary algebraic method called [completing the square](https://en.wikipedia.org/wiki/Completing_the_square) to show that a quadratic equation has the following solution:\n",
    "$$\n",
    "x = \\dfrac{-b \\pm \\sqrt{b^2-4ac}}{2a}\n",
    "$$\n",
    "\n",
    "### **Discriminant**\n",
    "The quantity $\\Delta$ =$b^2-4ac$ is called the **discriminant** of the equation and decides the nature of its solutions. The table below shows the various possibilities.\n",
    "\n",
    "| **Discriminant**          |**Roots**                          |\n",
    "|:------------------------- |:-----------------------------------|\n",
    "| $\\Delta$=$b^2-4ac=0$      |A single solution of -b/(2a)        |\n",
    "| $\\Delta$=$b^2-4ac \\gt 0$  |Two distinct solutions              |\n",
    "| $\\Delta$=$b^2-4ac \\lt 0$  |No real solutions; both are complex |\n"
   ]
  },
  {
   "cell_type": "markdown",
   "id": "87a81558-cb80-49f8-8585-00ff1fa62d3b",
   "metadata": {},
   "source": [
    "# **Exercise 2**\n",
    "\n",
    "1. What is a Git **repository**?\n",
    "   a central location which stores all your files and codes with the revision history. Additionally it can track the changes in the code/file.  \n",
    "3. Git keeps tracks of ____changes____ in the files in our repository.\n",
    "4. What is a **commit**?\n",
    "   It saves the  changes made to the file with a brief description on what changes were made.  \n",
    "6. What is a **push**?\n",
    "   It is how we transfer our commits from a local reporitory on the desktop to a remote repository on the website\n",
    "8. What is a **pull**?\n",
    "   It is when we access and downlaod contents that were previously pushed onto the repository and it will be updated.\n",
    "10. What is the difference between **GitHub** and **GitHub Desktop**?\n",
    "    GitHub is a cloud based system that allows users to manage their codes and keep track of it. GitHub Desktop is an application that can be downloaded and used to access files that are on GitHub and manage the repository. "
   ]
  },
  {
   "cell_type": "markdown",
   "id": "20bd03a2-122f-4946-b8eb-dbdd47b955e5",
   "metadata": {},
   "source": [
    "# **Exercise 3**\n",
    "\n",
    "$$\\mu=\\frac{1}{n}\\sum\\limits_{i=1}^{n}x_{i}$$\n",
    "\n",
    "$$\\sigma=\\sqrt{\\frac{1}{n}\\sum\\limits_{i=1}^{n}(x_i-\\mu)^2}$$\n",
    "\n",
    "$$r=\\dfrac{\\sum_{i=1}^{n}(x_i-\\mu_X)(y_i-\\mu_y)}{\\sqrt{\\sum_{i=1}^{n}(x_i-\\mu_X)^2\\sum_{i=1}^{n}(y_i-\\mu_Y)^2}}$$"
   ]
  },
  {
   "cell_type": "code",
   "execution_count": null,
   "id": "dfed5bdf-5c6a-4b6a-a6e1-e19795c75459",
   "metadata": {},
   "outputs": [],
   "source": []
  }
 ],
 "metadata": {
  "kernelspec": {
   "display_name": "Python 3 (ipykernel)",
   "language": "python",
   "name": "python3"
  },
  "language_info": {
   "codemirror_mode": {
    "name": "ipython",
    "version": 3
   },
   "file_extension": ".py",
   "mimetype": "text/x-python",
   "name": "python",
   "nbconvert_exporter": "python",
   "pygments_lexer": "ipython3",
   "version": "3.12.2"
  }
 },
 "nbformat": 4,
 "nbformat_minor": 5
}
