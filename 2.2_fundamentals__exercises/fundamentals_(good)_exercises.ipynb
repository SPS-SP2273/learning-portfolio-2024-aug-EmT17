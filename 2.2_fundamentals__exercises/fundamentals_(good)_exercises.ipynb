{
 "cells": [
  {
   "attachments": {},
   "cell_type": "markdown",
   "id": "123456",
   "metadata": {},
   "source": [
    "<div style=\"text-align:left;font-size:2em\"><span style=\"font-weight:bolder;font-size:1.25em\">SP2273 | Learning Portfolio</span><br><br><span style=\"font-weight:bold;color:darkred\">Fundamentals (Good) Exercises</span></div>"
   ]
  },
  {
   "cell_type": "markdown",
   "id": "56239af0-5177-458a-a0fe-387b84b6d027",
   "metadata": {},
   "source": [
    "# **Exercise 1**"
   ]
  },
  {
   "cell_type": "code",
   "execution_count": 1,
   "id": "4d6e2663-06aa-47cd-a205-1f3eb57182dd",
   "metadata": {
    "editable": true,
    "slideshow": {
     "slide_type": ""
    },
    "tags": []
   },
   "outputs": [
    {
     "name": "stdin",
     "output_type": "stream",
     "text": [
      "What is your name? EMMA\n",
      "What is your age? 23\n"
     ]
    }
   ],
   "source": [
    "name = input('What is your name?')\n",
    "age = input('What is your age?')"
   ]
  },
  {
   "cell_type": "code",
   "execution_count": 2,
   "id": "f1e466a3-52c4-4e71-8e40-fd4bd5626529",
   "metadata": {},
   "outputs": [
    {
     "name": "stdout",
     "output_type": "stream",
     "text": [
      "How you doin EMMA\n"
     ]
    }
   ],
   "source": [
    "print('How you doin', name)"
   ]
  },
  {
   "cell_type": "code",
   "execution_count": 4,
   "id": "f68bd8b3-f2cb-4dd6-8b65-40a5ef46df50",
   "metadata": {},
   "outputs": [
    {
     "name": "stdout",
     "output_type": "stream",
     "text": [
      "my name is EMMA and I am 23 years old\n"
     ]
    }
   ],
   "source": [
    "print('my name is', name,'and I am',age,'years old')"
   ]
  },
  {
   "cell_type": "code",
   "execution_count": 10,
   "id": "c6f1a803-0acd-4cb2-9ced-d8ee48ac55c2",
   "metadata": {},
   "outputs": [],
   "source": [
    "name = \"EMMA\"\n",
    "age = \"23\""
   ]
  },
  {
   "cell_type": "code",
   "execution_count": 9,
   "id": "85e78ca7-4bf5-4f89-9b5f-ad4ab2f97cd7",
   "metadata": {},
   "outputs": [
    {
     "name": "stdout",
     "output_type": "stream",
     "text": [
      "my name is EMMA\n"
     ]
    }
   ],
   "source": [
    "print(f\"my name is {name}\")"
   ]
  },
  {
   "cell_type": "code",
   "execution_count": 12,
   "id": "33cab6c4-17f3-4153-a532-9e1100fec247",
   "metadata": {},
   "outputs": [
    {
     "name": "stdout",
     "output_type": "stream",
     "text": [
      "my name is EMMA and I am 23 years \n"
     ]
    }
   ],
   "source": [
    "print(f\"my name is {name} and I am {age} years \")"
   ]
  },
  {
   "cell_type": "code",
   "execution_count": 20,
   "id": "72ddc677-862e-48ca-8e27-9260bd5deb12",
   "metadata": {},
   "outputs": [],
   "source": [
    "#define the value of pi\n",
    "pi = 3.141592653589793 "
   ]
  },
  {
   "cell_type": "code",
   "execution_count": 11,
   "id": "ca1d55a3-c6fc-45be-b4cf-41d7beec2ab7",
   "metadata": {},
   "outputs": [
    {
     "name": "stdout",
     "output_type": "stream",
     "text": [
      "the value of 3.141592653589793\n"
     ]
    }
   ],
   "source": [
    "print('the value of', pi)"
   ]
  },
  {
   "cell_type": "code",
   "execution_count": 30,
   "id": "844aad86-76c2-4508-9d9f-e79c806a3867",
   "metadata": {},
   "outputs": [
    {
     "name": "stdout",
     "output_type": "stream",
     "text": [
      "The value of pi to 2 decimal places is: 3.14\n",
      "The value of pi to 3 decimal places is: 3.142\n",
      "The value of pi to 4 decimal places is: 3.1416\n"
     ]
    }
   ],
   "source": [
    "print(f\"The value of pi to 2 decimal places is: {pi:.2f}\")\n",
    "print(f\"The value of pi to 3 decimal places is: {pi:.3f}\")\n",
    "print(f\"The value of pi to 4 decimal places is: {pi:.4f}\")"
   ]
  },
  {
   "cell_type": "code",
   "execution_count": 18,
   "id": "53e1bf18-4c02-434b-92fb-881a4d97588b",
   "metadata": {},
   "outputs": [],
   "source": [
    "apple = 'Apple'\n",
    "banana = 'Banana'\n",
    "orange = 'Orange'"
   ]
  },
  {
   "cell_type": "code",
   "execution_count": 19,
   "id": "dc549843-33af-453a-b62d-60e7fb226026",
   "metadata": {},
   "outputs": [],
   "source": [
    "price_apple = 0.99\n",
    "price_banana = 0.59\n",
    "price_orange = 1.29"
   ]
  },
  {
   "cell_type": "code",
   "execution_count": 27,
   "id": "1bc06a04-6c0a-4b71-a391-8513f3dc2832",
   "metadata": {},
   "outputs": [
    {
     "name": "stdout",
     "output_type": "stream",
     "text": [
      "     Apple $  0.99\n",
      "    Banana $  0.59\n",
      "    Orange $  1.29\n"
     ]
    }
   ],
   "source": [
    "print(f'{apple:>10} $ {price_apple:>5}')\n",
    "print(f'{banana:>10} $ {price_banana:>5}')\n",
    "print(f'{orange:>10} $ {price_orange:>5}')"
   ]
  },
  {
   "cell_type": "markdown",
   "id": "f07a52a9-87ed-47e0-9d1f-ef451217ca98",
   "metadata": {},
   "source": [
    "## **Exercise 2**"
   ]
  },
  {
   "cell_type": "code",
   "execution_count": 59,
   "id": "5a84a439-53f0-442e-873d-61e066e68529",
   "metadata": {},
   "outputs": [
    {
     "name": "stdin",
     "output_type": "stream",
     "text": [
      "Enter the student's score:  85\n"
     ]
    },
    {
     "name": "stdout",
     "output_type": "stream",
     "text": [
      "The student's letter grade is: A\n"
     ]
    }
   ],
   "source": [
    "score_input = input(\"Enter the student's score: \")\n",
    "\n",
    "score = float(score_input) #to convert values into floating point numbers\n",
    "if 0 <= score <= 100:\n",
    "        \n",
    "        if score >= 70:\n",
    "            grade = \"A\"\n",
    "        elif score >= 50:\n",
    "            grade = \"B\"\n",
    "        elif score >= 35:\n",
    "            grade = \"C\"\n",
    "        else:\n",
    "            grade = \"Fail\"\n",
    "\n",
    "        print(f\"The student's letter grade is: {grade}\")\n",
    "else:\n",
    "        print(\"Error: The score must be between 0 and 100.\")"
   ]
  },
  {
   "cell_type": "markdown",
   "id": "703a52a5-4a16-48f0-bd11-915ebc347ff5",
   "metadata": {},
   "source": [
    "## **Exercise 3**"
   ]
  },
  {
   "cell_type": "code",
   "execution_count": 1,
   "id": "530a87b1-0ba3-4da6-b9ef-925eafa6ea53",
   "metadata": {},
   "outputs": [
    {
     "name": "stdout",
     "output_type": "stream",
     "text": [
      "120\n",
      "Invalid input\n"
     ]
    }
   ],
   "source": [
    "def factorial(n):\n",
    "    if n < 0:\n",
    "        return \"Invalid input\"\n",
    "    elif n == 0:\n",
    "        return 1\n",
    "    else:\n",
    "        result = 1\n",
    "        for number in range(1, n+1):\n",
    "            result *= number\n",
    "        return result\n",
    "\n",
    "\n",
    "print(factorial(5))   # Testing, expected output: 120\n",
    "print(factorial(-1))  # Testing, expected output: Invalid input"
   ]
  },
  {
   "cell_type": "code",
   "execution_count": null,
   "id": "93f16357-da1f-4626-b868-64adfb025fa2",
   "metadata": {},
   "outputs": [],
   "source": []
  }
 ],
 "metadata": {
  "kernelspec": {
   "display_name": "Python 3 (ipykernel)",
   "language": "python",
   "name": "python3"
  },
  "language_info": {
   "codemirror_mode": {
    "name": "ipython",
    "version": 3
   },
   "file_extension": ".py",
   "mimetype": "text/x-python",
   "name": "python",
   "nbconvert_exporter": "python",
   "pygments_lexer": "ipython3",
   "version": "3.12.2"
  },
  "toc": {
   "base_numbering": 1,
   "nav_menu": {},
   "number_sections": true,
   "sideBar": true,
   "skip_h1_title": false,
   "title_cell": "Table of Contents",
   "title_sidebar": "Contents",
   "toc_cell": false,
   "toc_position": {},
   "toc_section_display": true,
   "toc_window_display": false
  },
  "vscode": {
   "interpreter": {
    "hash": "31f2aee4e71d21fbe5cf8b01ff0e069b9275f58929596ceb00d14d90e3e16cd6"
   }
  }
 },
 "nbformat": 4,
 "nbformat_minor": 5
}
